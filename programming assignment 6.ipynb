{
 "cells": [
  {
   "cell_type": "code",
   "execution_count": null,
   "id": "84425f3f",
   "metadata": {},
   "outputs": [],
   "source": [
    "1-Write a Python Program to Display Fibonacci Sequence Using Recursion?"
   ]
  },
  {
   "cell_type": "code",
   "execution_count": 9,
   "id": "39881b1a",
   "metadata": {},
   "outputs": [
    {
     "name": "stdout",
     "output_type": "stream",
     "text": [
      "how many terms?12\n",
      "fibonacci sequence :\n",
      "0\n",
      "1\n",
      "1\n",
      "2\n",
      "3\n",
      "5\n",
      "8\n",
      "13\n",
      "21\n",
      "34\n",
      "55\n",
      "89\n"
     ]
    }
   ],
   "source": [
    "def recur_fibo(n):\n",
    "    if n<=1:\n",
    "        return n\n",
    "    else:\n",
    "        return(recur_fibo(n-1)+recur_fibo(n-2))\n",
    "nterms= int(input(\"how many terms?\"))\n",
    "if nterms<=0:\n",
    "    print(\"enter a positive number\")\n",
    "else:\n",
    "        print(\"fibonacci sequence :\")\n",
    "for i in range(nterms):  \n",
    "       print(recur_fibo(i)) \n"
   ]
  },
  {
   "cell_type": "code",
   "execution_count": null,
   "id": "a63a2f29",
   "metadata": {},
   "outputs": [],
   "source": [
    "2-Write a Python Program to Find Factorial of Number Using Recursion?"
   ]
  },
  {
   "cell_type": "code",
   "execution_count": 14,
   "id": "39f58ce0",
   "metadata": {},
   "outputs": [
    {
     "name": "stdout",
     "output_type": "stream",
     "text": [
      "enter a number5\n",
      "The factorial of 5 is 120\n"
     ]
    }
   ],
   "source": [
    "def recur_factorial(n):\n",
    "    if n == 1:\n",
    "        return n\n",
    "    else:\n",
    "        return n*recur_factorial(n-1)\n",
    "\n",
    "num = int(input(\"enter a number\"))\n",
    "\n",
    "# check if the number is negative\n",
    "if num < 0:\n",
    "    print(\"Sorry, factorial does not exist for negative numbers\")\n",
    "elif num == 0:\n",
    "    print(\"The factorial of 0 is 1\")\n",
    "else:\n",
    "    print(\"The factorial of\", num, \"is\", recur_factorial(num))"
   ]
  },
  {
   "cell_type": "code",
   "execution_count": null,
   "id": "4e3921e5",
   "metadata": {},
   "outputs": [],
   "source": [
    "3-Write a Python Program to calculate your Body Mass Index?"
   ]
  },
  {
   "cell_type": "code",
   "execution_count": 18,
   "id": "33f669b5",
   "metadata": {},
   "outputs": [
    {
     "name": "stdout",
     "output_type": "stream",
     "text": [
      "enter your height in cm162\n",
      "enter your weight in kg55.25\n",
      " your BMI is 21.052431031854898\n"
     ]
    }
   ],
   "source": [
    "height= float(input(\"enter your height in cm\"))\n",
    "weight=float(input(\"enter your weight in kg\"))\n",
    "BMI= weight/(height/100)**2\n",
    "print(\" your BMI is\", BMI)"
   ]
  },
  {
   "cell_type": "code",
   "execution_count": null,
   "id": "1c6ff382",
   "metadata": {},
   "outputs": [],
   "source": [
    "4-Write a Python Program to calculate the natural logarithm of any number?"
   ]
  },
  {
   "cell_type": "code",
   "execution_count": 1,
   "id": "01afd18a",
   "metadata": {},
   "outputs": [
    {
     "name": "stdout",
     "output_type": "stream",
     "text": [
      "Enter the number: 20\n",
      "The value is: 2.995732273553991\n"
     ]
    }
   ],
   "source": [
    "import math\n",
    "\n",
    "number = int(input(\"Enter the number: \"))\n",
    "\n",
    "logarithm = math.log(number)\n",
    "\n",
    "print(\"The value is:\",logarithm)"
   ]
  },
  {
   "cell_type": "code",
   "execution_count": null,
   "id": "7ab17713",
   "metadata": {},
   "outputs": [],
   "source": [
    "5-Write a Python Program for cube sum of first n natural numbers?"
   ]
  },
  {
   "cell_type": "code",
   "execution_count": 4,
   "id": "d8f1f23d",
   "metadata": {},
   "outputs": [
    {
     "name": "stdout",
     "output_type": "stream",
     "text": [
      "enter a number : 5\n",
      "Sum of cubes =  225\n"
     ]
    }
   ],
   "source": [
    "def sumOfSeries(n):\n",
    "    sum = 0\n",
    "    for i in range(0, n+1):\n",
    "        sum += i**3\n",
    "    return sum\n",
    "\n",
    "Num =int(input(\"enter a number : \"))\n",
    "\n",
    "if (Num <0):\n",
    "    print(\"enter a positive number\")\n",
    "else:\n",
    "    a = sumOfSeries(Num)\n",
    "    print(\"Sum of cubes = \", a)\n"
   ]
  },
  {
   "cell_type": "code",
   "execution_count": null,
   "id": "79f6f0cc",
   "metadata": {},
   "outputs": [],
   "source": []
  },
  {
   "cell_type": "code",
   "execution_count": null,
   "id": "5a74c6a3",
   "metadata": {},
   "outputs": [],
   "source": []
  }
 ],
 "metadata": {
  "kernelspec": {
   "display_name": "Python 3 (ipykernel)",
   "language": "python",
   "name": "python3"
  },
  "language_info": {
   "codemirror_mode": {
    "name": "ipython",
    "version": 3
   },
   "file_extension": ".py",
   "mimetype": "text/x-python",
   "name": "python",
   "nbconvert_exporter": "python",
   "pygments_lexer": "ipython3",
   "version": "3.9.7"
  }
 },
 "nbformat": 4,
 "nbformat_minor": 5
}
